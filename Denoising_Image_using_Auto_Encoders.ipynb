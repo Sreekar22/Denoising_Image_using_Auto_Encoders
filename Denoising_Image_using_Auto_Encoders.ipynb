{
  "nbformat": 4,
  "nbformat_minor": 0,
  "metadata": {
    "colab": {
      "provenance": [],
      "authorship_tag": "ABX9TyM1roekgBPPs70Cj6cltZe/",
      "include_colab_link": true
    },
    "kernelspec": {
      "name": "python3",
      "display_name": "Python 3"
    },
    "language_info": {
      "name": "python"
    }
  },
  "cells": [
    {
      "cell_type": "markdown",
      "metadata": {
        "id": "view-in-github",
        "colab_type": "text"
      },
      "source": [
        "<a href=\"https://colab.research.google.com/github/Sreekar22/Denoising_Image_using_Auto_Encoders/blob/main/Denoising_Image_using_Auto_Encoders.ipynb\" target=\"_parent\"><img src=\"https://colab.research.google.com/assets/colab-badge.svg\" alt=\"Open In Colab\"/></a>"
      ]
    },
    {
      "cell_type": "markdown",
      "source": [
        "## **For Dataset vist below link:**\n",
        "https://www.kaggle.com/datasets/zalando-research/fashionmnist"
      ],
      "metadata": {
        "id": "GDRCYfseW9qS"
      }
    },
    {
      "cell_type": "code",
      "execution_count": null,
      "metadata": {
        "colab": {
          "base_uri": "https://localhost:8080/"
        },
        "id": "oNqMHxB80v0z",
        "outputId": "72ed89af-1237-4aad-b08c-c7f55e0035ec"
      },
      "outputs": [
        {
          "output_type": "stream",
          "name": "stdout",
          "text": [
            "Mounted at /content/drive\n"
          ]
        }
      ],
      "source": [
        "from google.colab import drive\n",
        "drive.mount('/content/drive')"
      ]
    },
    {
      "cell_type": "markdown",
      "source": [
        "# Import Libraries and Load Dataset\n",
        "## Now, we import required libraries\n",
        "*   To read the CSV data, you will need pandas.read_csv\n",
        "*   For plotting,use matpliot\n",
        "*   For splitting into train and test set use sklearn\n",
        "*   For deep learning layers use tendorflow and keras\n",
        "*   For maths operation use numpy\n"
      ],
      "metadata": {
        "id": "2TH2y5FDlqy7"
      }
    },
    {
      "cell_type": "code",
      "source": [
        "import seaborn as sns\n",
        "import numpy as np\n",
        "import pandas as pd\n",
        "\n",
        "from sklearn.model_selection import train_test_split\n",
        "\n",
        "import matplotlib.pyplot as plt\n",
        "from tensorflow.keras.models import Sequential, Model\n",
        "from tensorflow.keras.layers import Dense, Input\n",
        "from tensorflow.keras.utils import to_categorical\n",
        "%matplotlib inline\n",
        "sns.set(style = 'white', context = 'notebook', palette = 'deep')\n",
        "np.random.seed(42)"
      ],
      "metadata": {
        "id": "PimxGgLFDwSg"
      },
      "execution_count": null,
      "outputs": []
    },
    {
      "cell_type": "markdown",
      "source": [
        "## To read the CSV data, you will need pandas.read_csv. It will read the data into the Pandas data frame."
      ],
      "metadata": {
        "id": "aBCpqNyemAgR"
      }
    },
    {
      "cell_type": "code",
      "source": [
        "train = pd.read_csv(\"/content/drive/My Drive/fashion-mnist_test.csv\")\n",
        "test = pd.read_csv(\"/content/drive/My Drive/fashion-mnist_train.csv\")"
      ],
      "metadata": {
        "id": "nN4rgGSBD0yT"
      },
      "execution_count": null,
      "outputs": []
    },
    {
      "cell_type": "markdown",
      "source": [
        "## Check how pixels look like in the data frame. train.head() will show the first five columns of the data frame."
      ],
      "metadata": {
        "id": "rpUz9E5cmFyw"
      }
    },
    {
      "cell_type": "code",
      "source": [
        "train.head()"
      ],
      "metadata": {
        "colab": {
          "base_uri": "https://localhost:8080/",
          "height": 236
        },
        "id": "0Xx_BqADD3ET",
        "outputId": "fb8dddbb-cfad-4012-d66c-7a25bf498d20"
      },
      "execution_count": null,
      "outputs": [
        {
          "output_type": "execute_result",
          "data": {
            "text/plain": [
              "   label  pixel1  pixel2  pixel3  pixel4  pixel5  pixel6  pixel7  pixel8  \\\n",
              "0      0       0       0       0       0       0       0       0       9   \n",
              "1      1       0       0       0       0       0       0       0       0   \n",
              "2      2       0       0       0       0       0       0      14      53   \n",
              "3      2       0       0       0       0       0       0       0       0   \n",
              "4      3       0       0       0       0       0       0       0       0   \n",
              "\n",
              "   pixel9  ...  pixel775  pixel776  pixel777  pixel778  pixel779  pixel780  \\\n",
              "0       8  ...       103        87        56         0         0         0   \n",
              "1       0  ...        34         0         0         0         0         0   \n",
              "2      99  ...         0         0         0         0        63        53   \n",
              "3       0  ...       137       126       140         0       133       224   \n",
              "4       0  ...         0         0         0         0         0         0   \n",
              "\n",
              "   pixel781  pixel782  pixel783  pixel784  \n",
              "0         0         0         0         0  \n",
              "1         0         0         0         0  \n",
              "2        31         0         0         0  \n",
              "3       222        56         0         0  \n",
              "4         0         0         0         0  \n",
              "\n",
              "[5 rows x 785 columns]"
            ],
            "text/html": [
              "\n",
              "  <div id=\"df-3ea42050-a41d-4b68-85d3-eb579c90d16e\">\n",
              "    <div class=\"colab-df-container\">\n",
              "      <div>\n",
              "<style scoped>\n",
              "    .dataframe tbody tr th:only-of-type {\n",
              "        vertical-align: middle;\n",
              "    }\n",
              "\n",
              "    .dataframe tbody tr th {\n",
              "        vertical-align: top;\n",
              "    }\n",
              "\n",
              "    .dataframe thead th {\n",
              "        text-align: right;\n",
              "    }\n",
              "</style>\n",
              "<table border=\"1\" class=\"dataframe\">\n",
              "  <thead>\n",
              "    <tr style=\"text-align: right;\">\n",
              "      <th></th>\n",
              "      <th>label</th>\n",
              "      <th>pixel1</th>\n",
              "      <th>pixel2</th>\n",
              "      <th>pixel3</th>\n",
              "      <th>pixel4</th>\n",
              "      <th>pixel5</th>\n",
              "      <th>pixel6</th>\n",
              "      <th>pixel7</th>\n",
              "      <th>pixel8</th>\n",
              "      <th>pixel9</th>\n",
              "      <th>...</th>\n",
              "      <th>pixel775</th>\n",
              "      <th>pixel776</th>\n",
              "      <th>pixel777</th>\n",
              "      <th>pixel778</th>\n",
              "      <th>pixel779</th>\n",
              "      <th>pixel780</th>\n",
              "      <th>pixel781</th>\n",
              "      <th>pixel782</th>\n",
              "      <th>pixel783</th>\n",
              "      <th>pixel784</th>\n",
              "    </tr>\n",
              "  </thead>\n",
              "  <tbody>\n",
              "    <tr>\n",
              "      <th>0</th>\n",
              "      <td>0</td>\n",
              "      <td>0</td>\n",
              "      <td>0</td>\n",
              "      <td>0</td>\n",
              "      <td>0</td>\n",
              "      <td>0</td>\n",
              "      <td>0</td>\n",
              "      <td>0</td>\n",
              "      <td>9</td>\n",
              "      <td>8</td>\n",
              "      <td>...</td>\n",
              "      <td>103</td>\n",
              "      <td>87</td>\n",
              "      <td>56</td>\n",
              "      <td>0</td>\n",
              "      <td>0</td>\n",
              "      <td>0</td>\n",
              "      <td>0</td>\n",
              "      <td>0</td>\n",
              "      <td>0</td>\n",
              "      <td>0</td>\n",
              "    </tr>\n",
              "    <tr>\n",
              "      <th>1</th>\n",
              "      <td>1</td>\n",
              "      <td>0</td>\n",
              "      <td>0</td>\n",
              "      <td>0</td>\n",
              "      <td>0</td>\n",
              "      <td>0</td>\n",
              "      <td>0</td>\n",
              "      <td>0</td>\n",
              "      <td>0</td>\n",
              "      <td>0</td>\n",
              "      <td>...</td>\n",
              "      <td>34</td>\n",
              "      <td>0</td>\n",
              "      <td>0</td>\n",
              "      <td>0</td>\n",
              "      <td>0</td>\n",
              "      <td>0</td>\n",
              "      <td>0</td>\n",
              "      <td>0</td>\n",
              "      <td>0</td>\n",
              "      <td>0</td>\n",
              "    </tr>\n",
              "    <tr>\n",
              "      <th>2</th>\n",
              "      <td>2</td>\n",
              "      <td>0</td>\n",
              "      <td>0</td>\n",
              "      <td>0</td>\n",
              "      <td>0</td>\n",
              "      <td>0</td>\n",
              "      <td>0</td>\n",
              "      <td>14</td>\n",
              "      <td>53</td>\n",
              "      <td>99</td>\n",
              "      <td>...</td>\n",
              "      <td>0</td>\n",
              "      <td>0</td>\n",
              "      <td>0</td>\n",
              "      <td>0</td>\n",
              "      <td>63</td>\n",
              "      <td>53</td>\n",
              "      <td>31</td>\n",
              "      <td>0</td>\n",
              "      <td>0</td>\n",
              "      <td>0</td>\n",
              "    </tr>\n",
              "    <tr>\n",
              "      <th>3</th>\n",
              "      <td>2</td>\n",
              "      <td>0</td>\n",
              "      <td>0</td>\n",
              "      <td>0</td>\n",
              "      <td>0</td>\n",
              "      <td>0</td>\n",
              "      <td>0</td>\n",
              "      <td>0</td>\n",
              "      <td>0</td>\n",
              "      <td>0</td>\n",
              "      <td>...</td>\n",
              "      <td>137</td>\n",
              "      <td>126</td>\n",
              "      <td>140</td>\n",
              "      <td>0</td>\n",
              "      <td>133</td>\n",
              "      <td>224</td>\n",
              "      <td>222</td>\n",
              "      <td>56</td>\n",
              "      <td>0</td>\n",
              "      <td>0</td>\n",
              "    </tr>\n",
              "    <tr>\n",
              "      <th>4</th>\n",
              "      <td>3</td>\n",
              "      <td>0</td>\n",
              "      <td>0</td>\n",
              "      <td>0</td>\n",
              "      <td>0</td>\n",
              "      <td>0</td>\n",
              "      <td>0</td>\n",
              "      <td>0</td>\n",
              "      <td>0</td>\n",
              "      <td>0</td>\n",
              "      <td>...</td>\n",
              "      <td>0</td>\n",
              "      <td>0</td>\n",
              "      <td>0</td>\n",
              "      <td>0</td>\n",
              "      <td>0</td>\n",
              "      <td>0</td>\n",
              "      <td>0</td>\n",
              "      <td>0</td>\n",
              "      <td>0</td>\n",
              "      <td>0</td>\n",
              "    </tr>\n",
              "  </tbody>\n",
              "</table>\n",
              "<p>5 rows × 785 columns</p>\n",
              "</div>\n",
              "      <button class=\"colab-df-convert\" onclick=\"convertToInteractive('df-3ea42050-a41d-4b68-85d3-eb579c90d16e')\"\n",
              "              title=\"Convert this dataframe to an interactive table.\"\n",
              "              style=\"display:none;\">\n",
              "        \n",
              "  <svg xmlns=\"http://www.w3.org/2000/svg\" height=\"24px\"viewBox=\"0 0 24 24\"\n",
              "       width=\"24px\">\n",
              "    <path d=\"M0 0h24v24H0V0z\" fill=\"none\"/>\n",
              "    <path d=\"M18.56 5.44l.94 2.06.94-2.06 2.06-.94-2.06-.94-.94-2.06-.94 2.06-2.06.94zm-11 1L8.5 8.5l.94-2.06 2.06-.94-2.06-.94L8.5 2.5l-.94 2.06-2.06.94zm10 10l.94 2.06.94-2.06 2.06-.94-2.06-.94-.94-2.06-.94 2.06-2.06.94z\"/><path d=\"M17.41 7.96l-1.37-1.37c-.4-.4-.92-.59-1.43-.59-.52 0-1.04.2-1.43.59L10.3 9.45l-7.72 7.72c-.78.78-.78 2.05 0 2.83L4 21.41c.39.39.9.59 1.41.59.51 0 1.02-.2 1.41-.59l7.78-7.78 2.81-2.81c.8-.78.8-2.07 0-2.86zM5.41 20L4 18.59l7.72-7.72 1.47 1.35L5.41 20z\"/>\n",
              "  </svg>\n",
              "      </button>\n",
              "      \n",
              "  <style>\n",
              "    .colab-df-container {\n",
              "      display:flex;\n",
              "      flex-wrap:wrap;\n",
              "      gap: 12px;\n",
              "    }\n",
              "\n",
              "    .colab-df-convert {\n",
              "      background-color: #E8F0FE;\n",
              "      border: none;\n",
              "      border-radius: 50%;\n",
              "      cursor: pointer;\n",
              "      display: none;\n",
              "      fill: #1967D2;\n",
              "      height: 32px;\n",
              "      padding: 0 0 0 0;\n",
              "      width: 32px;\n",
              "    }\n",
              "\n",
              "    .colab-df-convert:hover {\n",
              "      background-color: #E2EBFA;\n",
              "      box-shadow: 0px 1px 2px rgba(60, 64, 67, 0.3), 0px 1px 3px 1px rgba(60, 64, 67, 0.15);\n",
              "      fill: #174EA6;\n",
              "    }\n",
              "\n",
              "    [theme=dark] .colab-df-convert {\n",
              "      background-color: #3B4455;\n",
              "      fill: #D2E3FC;\n",
              "    }\n",
              "\n",
              "    [theme=dark] .colab-df-convert:hover {\n",
              "      background-color: #434B5C;\n",
              "      box-shadow: 0px 1px 3px 1px rgba(0, 0, 0, 0.15);\n",
              "      filter: drop-shadow(0px 1px 2px rgba(0, 0, 0, 0.3));\n",
              "      fill: #FFFFFF;\n",
              "    }\n",
              "  </style>\n",
              "\n",
              "      <script>\n",
              "        const buttonEl =\n",
              "          document.querySelector('#df-3ea42050-a41d-4b68-85d3-eb579c90d16e button.colab-df-convert');\n",
              "        buttonEl.style.display =\n",
              "          google.colab.kernel.accessAllowed ? 'block' : 'none';\n",
              "\n",
              "        async function convertToInteractive(key) {\n",
              "          const element = document.querySelector('#df-3ea42050-a41d-4b68-85d3-eb579c90d16e');\n",
              "          const dataTable =\n",
              "            await google.colab.kernel.invokeFunction('convertToInteractive',\n",
              "                                                     [key], {});\n",
              "          if (!dataTable) return;\n",
              "\n",
              "          const docLinkHtml = 'Like what you see? Visit the ' +\n",
              "            '<a target=\"_blank\" href=https://colab.research.google.com/notebooks/data_table.ipynb>data table notebook</a>'\n",
              "            + ' to learn more about interactive tables.';\n",
              "          element.innerHTML = '';\n",
              "          dataTable['output_type'] = 'display_data';\n",
              "          await google.colab.output.renderOutput(dataTable, element);\n",
              "          const docLink = document.createElement('div');\n",
              "          docLink.innerHTML = docLinkHtml;\n",
              "          element.appendChild(docLink);\n",
              "        }\n",
              "      </script>\n",
              "    </div>\n",
              "  </div>\n",
              "  "
            ]
          },
          "metadata": {},
          "execution_count": 5
        }
      ]
    },
    {
      "cell_type": "code",
      "source": [
        "#check for null or missing values in column list\n",
        "train.isnull().sum()"
      ],
      "metadata": {
        "colab": {
          "base_uri": "https://localhost:8080/"
        },
        "id": "pVRwvU8knkmj",
        "outputId": "6be6125c-62b5-4112-b16f-681d446d8d0b"
      },
      "execution_count": null,
      "outputs": [
        {
          "output_type": "execute_result",
          "data": {
            "text/plain": [
              "label       0\n",
              "pixel1      0\n",
              "pixel2      0\n",
              "pixel3      0\n",
              "pixel4      0\n",
              "           ..\n",
              "pixel780    0\n",
              "pixel781    0\n",
              "pixel782    0\n",
              "pixel783    0\n",
              "pixel784    0\n",
              "Length: 785, dtype: int64"
            ]
          },
          "metadata": {},
          "execution_count": 13
        }
      ]
    },
    {
      "cell_type": "markdown",
      "source": [
        "## Here we can see that our dataset is onpoint. This is rare as it has no missing vales\n",
        "\n"
      ],
      "metadata": {
        "id": "T1Qr_A4dnMER"
      }
    },
    {
      "cell_type": "code",
      "source": [
        "train.shape#So there are 785 total pixels present in the data of size 28x28. A black and white image is in a 2D array form."
      ],
      "metadata": {
        "colab": {
          "base_uri": "https://localhost:8080/"
        },
        "id": "jUi3txx-mZjK",
        "outputId": "96389a02-f05b-4cd7-94ee-d79c13ade86a"
      },
      "execution_count": null,
      "outputs": [
        {
          "output_type": "execute_result",
          "data": {
            "text/plain": [
              "(10000, 785)"
            ]
          },
          "metadata": {},
          "execution_count": 11
        }
      ]
    },
    {
      "cell_type": "markdown",
      "source": [
        "# Preparing the Image Data\n",
        "The data contains black and white images with unsigned integers of the range 0 to 255.\n",
        "\n",
        "Here there is a need for scaling the image. Normalize the pixel values by rescaling them to the range 0-1. The first step is to convert the data type from the data frame and series to NumPy ndarray."
      ],
      "metadata": {
        "id": "CFbq8fUhmJlJ"
      }
    },
    {
      "cell_type": "code",
      "source": [
        "y_train = train[\"label\"]\n",
        "x_train = train.drop(labels = [\"label\"], axis = 1)\n",
        "\n",
        "print(type(x_train))\n",
        "print(type(y_train))"
      ],
      "metadata": {
        "colab": {
          "base_uri": "https://localhost:8080/"
        },
        "id": "sKVSUDOWD-is",
        "outputId": "0490d4a3-c36e-4d28-fe62-f52604d4e17b"
      },
      "execution_count": null,
      "outputs": [
        {
          "output_type": "stream",
          "name": "stdout",
          "text": [
            "<class 'pandas.core.frame.DataFrame'>\n",
            "<class 'pandas.core.series.Series'>\n"
          ]
        }
      ]
    },
    {
      "cell_type": "code",
      "source": [
        "x_train = x_train.astype('float')/255."
      ],
      "metadata": {
        "id": "6Km8RWxrEoiN"
      },
      "execution_count": null,
      "outputs": []
    },
    {
      "cell_type": "code",
      "source": [
        "x_train = x_train.to_numpy()\n",
        "y_train = y_train.to_numpy()\n",
        "\n",
        "print(type(x_train))\n",
        "print(type(y_train))"
      ],
      "metadata": {
        "colab": {
          "base_uri": "https://localhost:8080/"
        },
        "id": "9i5PzW0CEkLl",
        "outputId": "e651f1c0-8a33-4e8c-b38c-9f9125bc96c4"
      },
      "execution_count": null,
      "outputs": [
        {
          "output_type": "stream",
          "name": "stdout",
          "text": [
            "<class 'numpy.ndarray'>\n",
            "<class 'numpy.ndarray'>\n"
          ]
        }
      ]
    },
    {
      "cell_type": "markdown",
      "source": [
        "# Splitting the data into trainng set and testing set\n",
        "We split the dataset into 20/80\n",
        "Also we use stratify to maintain the original distribution of Dependent variable as of original set"
      ],
      "metadata": {
        "id": "E5pyLn0toPN8"
      }
    },
    {
      "cell_type": "code",
      "source": [
        "x_train, x_val, y_train, y_val = train_test_split(x_train, y_train, test_size = 0.2, random_state = 42)"
      ],
      "metadata": {
        "id": "8hzPWkLbEtiT"
      },
      "execution_count": null,
      "outputs": []
    },
    {
      "cell_type": "code",
      "source": [
        "x_train_size = len(x_train)\n",
        "x_val_size = len(x_val)\n",
        "\n",
        "print(x_train_size)\n",
        "print(x_val_size)"
      ],
      "metadata": {
        "colab": {
          "base_uri": "https://localhost:8080/"
        },
        "id": "bmY8HowkEvPz",
        "outputId": "8cc2da60-ec8c-4821-9e0f-9d62f1844869"
      },
      "execution_count": null,
      "outputs": [
        {
          "output_type": "stream",
          "name": "stdout",
          "text": [
            "8000\n",
            "2000\n"
          ]
        }
      ]
    },
    {
      "cell_type": "markdown",
      "source": [
        "# Adding Noise: Denoising Autoencoder\n",
        "* To develop a generalized model, a bit of noise is added to the input data to make it corrupt. The uncorrupted data is maintained, and it acts as the output. Here the model cannot memorize the training data and maps out the result as input. Output targets are different. This forces the model to map the input data to a lower-dimension manifold (a concentration point for input data).\n",
        "\n",
        "\n",
        "* Add synthetic noise by applying random data on the image data. You will need to normalize that new form of random image too. To achieve that, multiply the random noise by 0.9 and clip the range between 0 to 1. You may also use the Gaussian noise matrix and notice the difference."
      ],
      "metadata": {
        "id": "_D3M3H4LoZFZ"
      }
    },
    {
      "cell_type": "code",
      "source": [
        "#method-1\n",
        "x_train_noisy = x_train + np.random.rand(x_train_size, 784) * 0.9\n",
        "x_val_noisy = x_val + np.random.rand(x_val_size, 784) * 0.9\n",
        "\n",
        "#method-2: Adding Gaussian Noise\n",
        "# x_train_noisy = x_train + 0.75 * np.random.normal(loc=0.0, scale=1.0, size=x_train.shape)\n",
        "# x_val_noisy = x_val + 0.75 * np.random.normal(loc=0.0, scale=1.0, size=x_val.shape)\n",
        "\n",
        "x_train_noisy = np.clip(x_train_noisy, 0., 1.)\n",
        "x_val_noisy = np.clip(x_val_noisy, 0., 1.)\n"
      ],
      "metadata": {
        "id": "QzpNxoUDEzB6"
      },
      "execution_count": null,
      "outputs": []
    },
    {
      "cell_type": "markdown",
      "source": [
        "## Only for the visualization purpose, the image is reshaped from 1D array to 2D array, 784 to (28,28)."
      ],
      "metadata": {
        "id": "Qb87MfHjoyUD"
      }
    },
    {
      "cell_type": "code",
      "source": [
        "def plot(x, p , labels = False):\n",
        "  plt.figure(figsize = (20,2))\n",
        "  for i in range(10):\n",
        "    plt.subplot(1, 10, i+1)\n",
        "    plt.imshow(x[i].reshape(28,28), cmap = 'binary')\n",
        "    plt.xticks([])\n",
        "    plt.yticks([])\n",
        "  if labels:\n",
        "    plt.xlabel(np.argmax(p[i]))\n",
        "  plt.show()\n",
        "  return\n",
        "plot(x_train, None)"
      ],
      "metadata": {
        "colab": {
          "base_uri": "https://localhost:8080/",
          "height": 125
        },
        "id": "f23iqdAxOIgI",
        "outputId": "0d47a851-65e9-4337-b0d9-86caaf2a960b"
      },
      "execution_count": null,
      "outputs": [
        {
          "output_type": "display_data",
          "data": {
            "text/plain": [
              "<Figure size 1440x144 with 10 Axes>"
            ],
            "image/png": "[encoded data removed]"
          },
          "metadata": {}
        }
      ]
    },
    {
      "cell_type": "code",
      "source": [
        "plot(x_train_noisy,None)"
      ],
      "metadata": {
        "colab": {
          "base_uri": "https://localhost:8080/",
          "height": 125
        },
        "id": "h3UGgy3BOd-o",
        "outputId": "c3f2580c-ea36-4af7-c259-9d87ad620e99"
      },
      "execution_count": null,
      "outputs": [
        {
          "output_type": "display_data",
          "data": {
            "text/plain": [
              "<Figure size 1440x144 with 10 Axes>"
            ],
            "image/png": "[encoded data removed]"
          },
          "metadata": {}
        }
      ]
    },
    {
      "cell_type": "markdown",
      "source": [
        "The input size is of a 1D array. Notice that Dense layer 64 produces the bottleneck. The final layer at the decoder end gives the output of 784 units. The sigmoid function gives out the value between 0 and 1. This layer decides whether to consider the noise pixel or not."
      ],
      "metadata": {
        "id": "gj3h0Bn6o4DS"
      }
    },
    {
      "cell_type": "code",
      "source": [
        "input_image = Input(shape = (784, ) )\n",
        "\n",
        "encoded = Dense(512, activation = 'relu')(input_image)\n",
        "encoded = Dense(512, activation = 'relu')(encoded)\n",
        "encoded = Dense(256, activation = 'relu')(encoded)\n",
        "encoded = Dense(256, activation = 'relu')(encoded)\n",
        "encoded = Dense(64, activation = 'relu')(encoded)\n",
        "\n",
        "decoded = Dense(512, activation = 'relu')(encoded)\n",
        "decoded = Dense(784, activation = 'sigmoid')(decoded)\n",
        "\n",
        "autoencoder = Model(input_image, decoded)\n",
        "autoencoder.compile(loss= 'binary_crossentropy' , optimizer = 'adam')\n",
        "autoencoder.summary()"
      ],
      "metadata": {
        "colab": {
          "base_uri": "https://localhost:8080/"
        },
        "id": "PywjvpB_OhUn",
        "outputId": "d0d0131f-365a-4dfb-cc7c-18b64daf5638"
      },
      "execution_count": null,
      "outputs": [
        {
          "output_type": "stream",
          "name": "stdout",
          "text": [
            "Model: \"model\"\n",
            "_________________________________________________________________\n",
            " Layer (type)                Output Shape              Param #   \n",
            "=================================================================\n",
            " input_1 (InputLayer)        [(None, 784)]             0         \n",
            "                                                                 \n",
            " dense (Dense)               (None, 512)               401920    \n",
            "                                                                 \n",
            " dense_1 (Dense)             (None, 512)               262656    \n",
            "                                                                 \n",
            " dense_2 (Dense)             (None, 256)               131328    \n",
            "                                                                 \n",
            " dense_3 (Dense)             (None, 256)               65792     \n",
            "                                                                 \n",
            " dense_4 (Dense)             (None, 64)                16448     \n",
            "                                                                 \n",
            " dense_5 (Dense)             (None, 512)               33280     \n",
            "                                                                 \n",
            " dense_6 (Dense)             (None, 784)               402192    \n",
            "                                                                 \n",
            "=================================================================\n",
            "Total params: 1,313,616\n",
            "Trainable params: 1,313,616\n",
            "Non-trainable params: 0\n",
            "_________________________________________________________________\n"
          ]
        }
      ]
    },
    {
      "cell_type": "code",
      "source": [
        "import tensorflow as tf\n",
        "history = autoencoder.fit(x_train_noisy, x_train, epochs=100, batch_size=128, shuffle = True, validation_split=0.2)"
      ],
      "metadata": {
        "colab": {
          "base_uri": "https://localhost:8080/"
        },
        "id": "meGfX_p1Ol10",
        "outputId": "ac9b4391-2ed1-46a8-ae29-9100a81445d0"
      },
      "execution_count": null,
      "outputs": [
        {
          "output_type": "stream",
          "name": "stdout",
          "text": [
            "Epoch 1/100\n",
            "50/50 [==============================] - 2s 39ms/step - loss: 0.2773 - val_loss: 0.2959\n",
            "Epoch 2/100\n",
            "50/50 [==============================] - 2s 34ms/step - loss: 0.2772 - val_loss: 0.2964\n",
            "Epoch 3/100\n",
            "50/50 [==============================] - 2s 36ms/step - loss: 0.2770 - val_loss: 0.2956\n",
            "Epoch 4/100\n",
            "50/50 [==============================] - 2s 36ms/step - loss: 0.2777 - val_loss: 0.2976\n",
            "Epoch 5/100\n",
            "50/50 [==============================] - 2s 35ms/step - loss: 0.2772 - val_loss: 0.2960\n",
            "Epoch 6/100\n",
            "50/50 [==============================] - 2s 34ms/step - loss: 0.2771 - val_loss: 0.2960\n",
            "Epoch 7/100\n",
            "50/50 [==============================] - 2s 34ms/step - loss: 0.2769 - val_loss: 0.2961\n",
            "Epoch 8/100\n",
            "50/50 [==============================] - 2s 35ms/step - loss: 0.2765 - val_loss: 0.2962\n",
            "Epoch 9/100\n",
            "50/50 [==============================] - 3s 62ms/step - loss: 0.2765 - val_loss: 0.2965\n",
            "Epoch 10/100\n",
            "50/50 [==============================] - 3s 63ms/step - loss: 0.2769 - val_loss: 0.2963\n",
            "Epoch 11/100\n",
            "50/50 [==============================] - 4s 72ms/step - loss: 0.2761 - val_loss: 0.2963\n",
            "Epoch 12/100\n",
            "50/50 [==============================] - 4s 70ms/step - loss: 0.2758 - val_loss: 0.2958\n",
            "Epoch 13/100\n",
            "50/50 [==============================] - 4s 80ms/step - loss: 0.2756 - val_loss: 0.2960\n",
            "Epoch 14/100\n",
            "50/50 [==============================] - 4s 79ms/step - loss: 0.2760 - val_loss: 0.2966\n",
            "Epoch 15/100\n",
            "50/50 [==============================] - 3s 68ms/step - loss: 0.2756 - val_loss: 0.2968\n",
            "Epoch 16/100\n",
            "50/50 [==============================] - 4s 71ms/step - loss: 0.2761 - val_loss: 0.2963\n",
            "Epoch 17/100\n",
            "50/50 [==============================] - 2s 36ms/step - loss: 0.2759 - val_loss: 0.2963\n",
            "Epoch 18/100\n",
            "50/50 [==============================] - 2s 34ms/step - loss: 0.2750 - val_loss: 0.2959\n",
            "Epoch 19/100\n",
            "50/50 [==============================] - 2s 35ms/step - loss: 0.2752 - val_loss: 0.2968\n",
            "Epoch 20/100\n",
            "50/50 [==============================] - 2s 34ms/step - loss: 0.2751 - val_loss: 0.2964\n",
            "Epoch 21/100\n",
            "50/50 [==============================] - 2s 34ms/step - loss: 0.2749 - val_loss: 0.2974\n",
            "Epoch 22/100\n",
            "50/50 [==============================] - 2s 35ms/step - loss: 0.2770 - val_loss: 0.2960\n",
            "Epoch 23/100\n",
            "50/50 [==============================] - 2s 34ms/step - loss: 0.2751 - val_loss: 0.2969\n",
            "Epoch 24/100\n",
            "50/50 [==============================] - 2s 34ms/step - loss: 0.2750 - val_loss: 0.2961\n",
            "Epoch 25/100\n",
            "50/50 [==============================] - 2s 34ms/step - loss: 0.2742 - val_loss: 0.2961\n",
            "Epoch 26/100\n",
            "50/50 [==============================] - 2s 34ms/step - loss: 0.2747 - val_loss: 0.2969\n",
            "Epoch 27/100\n",
            "50/50 [==============================] - 2s 34ms/step - loss: 0.2749 - val_loss: 0.2986\n",
            "Epoch 28/100\n",
            "50/50 [==============================] - 2s 34ms/step - loss: 0.2742 - val_loss: 0.2959\n",
            "Epoch 29/100\n",
            "50/50 [==============================] - 2s 35ms/step - loss: 0.2738 - val_loss: 0.2960\n",
            "Epoch 30/100\n",
            "50/50 [==============================] - 2s 34ms/step - loss: 0.2737 - val_loss: 0.2969\n",
            "Epoch 31/100\n",
            "50/50 [==============================] - 2s 34ms/step - loss: 0.2734 - val_loss: 0.2961\n",
            "Epoch 32/100\n",
            "50/50 [==============================] - 2s 35ms/step - loss: 0.2734 - val_loss: 0.2963\n",
            "Epoch 33/100\n",
            "50/50 [==============================] - 2s 35ms/step - loss: 0.2733 - val_loss: 0.2960\n",
            "Epoch 34/100\n",
            "50/50 [==============================] - 2s 34ms/step - loss: 0.2739 - val_loss: 0.2969\n",
            "Epoch 35/100\n",
            "50/50 [==============================] - 2s 35ms/step - loss: 0.2735 - val_loss: 0.2967\n",
            "Epoch 36/100\n",
            "50/50 [==============================] - 2s 35ms/step - loss: 0.2738 - val_loss: 0.2960\n",
            "Epoch 37/100\n",
            "50/50 [==============================] - 2s 34ms/step - loss: 0.2732 - val_loss: 0.2961\n",
            "Epoch 38/100\n",
            "50/50 [==============================] - 2s 34ms/step - loss: 0.2731 - val_loss: 0.2966\n",
            "Epoch 39/100\n",
            "50/50 [==============================] - 2s 34ms/step - loss: 0.2727 - val_loss: 0.2964\n",
            "Epoch 40/100\n",
            "50/50 [==============================] - 2s 34ms/step - loss: 0.2728 - val_loss: 0.2965\n",
            "Epoch 41/100\n",
            "50/50 [==============================] - 2s 34ms/step - loss: 0.2725 - val_loss: 0.2973\n",
            "Epoch 42/100\n",
            "50/50 [==============================] - 2s 34ms/step - loss: 0.2725 - val_loss: 0.2960\n",
            "Epoch 43/100\n",
            "50/50 [==============================] - 2s 34ms/step - loss: 0.2732 - val_loss: 0.2966\n",
            "Epoch 44/100\n",
            "50/50 [==============================] - 2s 34ms/step - loss: 0.2728 - val_loss: 0.2972\n",
            "Epoch 45/100\n",
            "50/50 [==============================] - 2s 35ms/step - loss: 0.2725 - val_loss: 0.2968\n",
            "Epoch 46/100\n",
            "50/50 [==============================] - 2s 34ms/step - loss: 0.2723 - val_loss: 0.2972\n",
            "Epoch 47/100\n",
            "50/50 [==============================] - 2s 35ms/step - loss: 0.2723 - val_loss: 0.2974\n",
            "Epoch 48/100\n",
            "50/50 [==============================] - 3s 63ms/step - loss: 0.2719 - val_loss: 0.2970\n",
            "Epoch 49/100\n",
            "50/50 [==============================] - 3s 69ms/step - loss: 0.2717 - val_loss: 0.2968\n",
            "Epoch 50/100\n",
            "50/50 [==============================] - 4s 72ms/step - loss: 0.2718 - val_loss: 0.2968\n",
            "Epoch 51/100\n",
            "50/50 [==============================] - 4s 70ms/step - loss: 0.2723 - val_loss: 0.2963\n",
            "Epoch 52/100\n",
            "50/50 [==============================] - 3s 64ms/step - loss: 0.2718 - val_loss: 0.2970\n",
            "Epoch 53/100\n",
            "50/50 [==============================] - 3s 66ms/step - loss: 0.2716 - val_loss: 0.2974\n",
            "Epoch 54/100\n",
            "50/50 [==============================] - 2s 44ms/step - loss: 0.2714 - val_loss: 0.2967\n",
            "Epoch 55/100\n",
            "50/50 [==============================] - 2s 35ms/step - loss: 0.2715 - val_loss: 0.2975\n",
            "Epoch 56/100\n",
            "50/50 [==============================] - 2s 35ms/step - loss: 0.2722 - val_loss: 0.2969\n",
            "Epoch 57/100\n",
            "50/50 [==============================] - 2s 35ms/step - loss: 0.2718 - val_loss: 0.2973\n",
            "Epoch 58/100\n",
            "50/50 [==============================] - 2s 35ms/step - loss: 0.2715 - val_loss: 0.2964\n",
            "Epoch 59/100\n",
            "50/50 [==============================] - 2s 35ms/step - loss: 0.2710 - val_loss: 0.2965\n",
            "Epoch 60/100\n",
            "50/50 [==============================] - 2s 36ms/step - loss: 0.2714 - val_loss: 0.2973\n",
            "Epoch 61/100\n",
            "50/50 [==============================] - 2s 34ms/step - loss: 0.2710 - val_loss: 0.2968\n",
            "Epoch 62/100\n",
            "50/50 [==============================] - 2s 34ms/step - loss: 0.2709 - val_loss: 0.2972\n",
            "Epoch 63/100\n",
            "50/50 [==============================] - 2s 34ms/step - loss: 0.2715 - val_loss: 0.2971\n",
            "Epoch 64/100\n",
            "50/50 [==============================] - 2s 34ms/step - loss: 0.2708 - val_loss: 0.2970\n",
            "Epoch 65/100\n",
            "50/50 [==============================] - 2s 35ms/step - loss: 0.2707 - val_loss: 0.2984\n",
            "Epoch 66/100\n",
            "50/50 [==============================] - 2s 35ms/step - loss: 0.2709 - val_loss: 0.2964\n",
            "Epoch 67/100\n",
            "50/50 [==============================] - 3s 53ms/step - loss: 0.2702 - val_loss: 0.2970\n",
            "Epoch 68/100\n",
            "50/50 [==============================] - 4s 84ms/step - loss: 0.2698 - val_loss: 0.2973\n",
            "Epoch 69/100\n",
            "50/50 [==============================] - 3s 68ms/step - loss: 0.2703 - val_loss: 0.2969\n",
            "Epoch 70/100\n",
            "50/50 [==============================] - 2s 35ms/step - loss: 0.2705 - val_loss: 0.2974\n",
            "Epoch 71/100\n",
            "50/50 [==============================] - 2s 35ms/step - loss: 0.2702 - val_loss: 0.2975\n",
            "Epoch 72/100\n",
            "50/50 [==============================] - 2s 35ms/step - loss: 0.2704 - val_loss: 0.2977\n",
            "Epoch 73/100\n",
            "50/50 [==============================] - 2s 34ms/step - loss: 0.2707 - val_loss: 0.2978\n",
            "Epoch 74/100\n",
            "50/50 [==============================] - 2s 34ms/step - loss: 0.2701 - val_loss: 0.2969\n",
            "Epoch 75/100\n",
            "50/50 [==============================] - 2s 46ms/step - loss: 0.2697 - val_loss: 0.2982\n",
            "Epoch 76/100\n",
            "50/50 [==============================] - 3s 69ms/step - loss: 0.2697 - val_loss: 0.2976\n",
            "Epoch 77/100\n",
            "50/50 [==============================] - 2s 46ms/step - loss: 0.2701 - val_loss: 0.2976\n",
            "Epoch 78/100\n",
            "50/50 [==============================] - 2s 47ms/step - loss: 0.2695 - val_loss: 0.2972\n",
            "Epoch 79/100\n",
            "50/50 [==============================] - 2s 50ms/step - loss: 0.2697 - val_loss: 0.2990\n",
            "Epoch 80/100\n",
            "50/50 [==============================] - 2s 44ms/step - loss: 0.2694 - val_loss: 0.2972\n",
            "Epoch 81/100\n",
            "50/50 [==============================] - 2s 49ms/step - loss: 0.2692 - val_loss: 0.2978\n",
            "Epoch 82/100\n",
            "50/50 [==============================] - 2s 43ms/step - loss: 0.2697 - val_loss: 0.2983\n",
            "Epoch 83/100\n",
            "50/50 [==============================] - 3s 51ms/step - loss: 0.2696 - val_loss: 0.2976\n",
            "Epoch 84/100\n",
            "50/50 [==============================] - 2s 47ms/step - loss: 0.2691 - val_loss: 0.2978\n",
            "Epoch 85/100\n",
            "50/50 [==============================] - 2s 44ms/step - loss: 0.2690 - val_loss: 0.2979\n",
            "Epoch 86/100\n",
            "50/50 [==============================] - 2s 43ms/step - loss: 0.2697 - val_loss: 0.2981\n",
            "Epoch 87/100\n",
            "50/50 [==============================] - 2s 43ms/step - loss: 0.2697 - val_loss: 0.2976\n",
            "Epoch 88/100\n",
            "50/50 [==============================] - 2s 48ms/step - loss: 0.2689 - val_loss: 0.2987\n",
            "Epoch 89/100\n",
            "50/50 [==============================] - 2s 45ms/step - loss: 0.2691 - val_loss: 0.2986\n",
            "Epoch 90/100\n",
            "50/50 [==============================] - 2s 43ms/step - loss: 0.2690 - val_loss: 0.2975\n",
            "Epoch 91/100\n",
            "50/50 [==============================] - 2s 43ms/step - loss: 0.2691 - val_loss: 0.2983\n",
            "Epoch 92/100\n",
            "50/50 [==============================] - 2s 49ms/step - loss: 0.2691 - val_loss: 0.2983\n",
            "Epoch 93/100\n",
            "50/50 [==============================] - 2s 35ms/step - loss: 0.2689 - val_loss: 0.2981\n",
            "Epoch 94/100\n",
            "50/50 [==============================] - 2s 35ms/step - loss: 0.2687 - val_loss: 0.2980\n",
            "Epoch 95/100\n",
            "50/50 [==============================] - 2s 43ms/step - loss: 0.2684 - val_loss: 0.2984\n",
            "Epoch 96/100\n",
            "50/50 [==============================] - 2s 35ms/step - loss: 0.2683 - val_loss: 0.2975\n",
            "Epoch 97/100\n",
            "50/50 [==============================] - 2s 36ms/step - loss: 0.2688 - val_loss: 0.2984\n",
            "Epoch 98/100\n",
            "50/50 [==============================] - 2s 42ms/step - loss: 0.2688 - val_loss: 0.2985\n",
            "Epoch 99/100\n",
            "50/50 [==============================] - 2s 46ms/step - loss: 0.2682 - val_loss: 0.2987\n",
            "Epoch 100/100\n",
            "50/50 [==============================] - 2s 46ms/step - loss: 0.2680 - val_loss: 0.2986\n"
          ]
        }
      ]
    },
    {
      "cell_type": "markdown",
      "source": [
        "# Producing a Denoised Image\n",
        "Below you can see how well denoised images were produced from noisy ones present in x_val. There are three outputs: original test image, noisy test image, and denoised test image form autoencoders."
      ],
      "metadata": {
        "id": "XYV07MpLwHS0"
      }
    },
    {
      "cell_type": "code",
      "source": [
        "preds = autoencoder.predict(x_val_noisy)"
      ],
      "metadata": {
        "colab": {
          "base_uri": "https://localhost:8080/"
        },
        "id": "YnhZ9Y-TP8bw",
        "outputId": "5f7b386f-84be-45fa-db0a-f64bd1745a4e"
      },
      "execution_count": null,
      "outputs": [
        {
          "output_type": "stream",
          "name": "stdout",
          "text": [
            "63/63 [==============================] - 0s 5ms/step\n"
          ]
        }
      ]
    },
    {
      "cell_type": "code",
      "source": [
        "print(\"Test Image\")\n",
        "plot(x_val, None)"
      ],
      "metadata": {
        "colab": {
          "base_uri": "https://localhost:8080/",
          "height": 142
        },
        "id": "GhEegNS2P_yS",
        "outputId": "a00abcbf-46b8-4882-9905-05dbc7fcf953"
      },
      "execution_count": null,
      "outputs": [
        {
          "output_type": "stream",
          "name": "stdout",
          "text": [
            "Test Image\n"
          ]
        },
        {
          "output_type": "display_data",
          "data": {
            "text/plain": [
              "<Figure size 1440x144 with 10 Axes>"
            ],
            "image/png": "[encoded data removed]"
          },
          "metadata": {}
        }
      ]
    },
    {
      "cell_type": "code",
      "source": [
        "print(\"Noisy Image\")\n",
        "plot(x_val_noisy, None)"
      ],
      "metadata": {
        "colab": {
          "base_uri": "https://localhost:8080/",
          "height": 142
        },
        "id": "BPQqSx-RQICg",
        "outputId": "f31b58a5-a5be-40d7-cd28-76ec3a1d87d6"
      },
      "execution_count": null,
      "outputs": [
        {
          "output_type": "stream",
          "name": "stdout",
          "text": [
            "Noisy Image\n"
          ]
        },
        {
          "output_type": "display_data",
          "data": {
            "text/plain": [
              "<Figure size 1440x144 with 10 Axes>"
            ],
            "image/png": "[encoded data removed]"
          },
          "metadata": {}
        }
      ]
    },
    {
      "cell_type": "code",
      "source": [
        "print(\"Denoised Image\")\n",
        "plot(preds, None)"
      ],
      "metadata": {
        "colab": {
          "base_uri": "https://localhost:8080/",
          "height": 142
        },
        "id": "lmijfTrNQLnt",
        "outputId": "8fcb9407-6ba3-40fb-eb57-6ddf4581a858"
      },
      "execution_count": null,
      "outputs": [
        {
          "output_type": "stream",
          "name": "stdout",
          "text": [
            "Denoised Image\n"
          ]
        },
        {
          "output_type": "display_data",
          "data": {
            "text/plain": [
              "<Figure size 1440x144 with 10 Axes>"
            ],
            "image/png": "[encoded data removed]"
          },
          "metadata": {}
        }
      ]
    },
    {
      "cell_type": "code",
      "source": [
        "def plot_loss(history, x = 'loss', y = 'val_loss'):\n",
        "  fig, ax = plt.subplots( figsize=(20,10))\n",
        "  ax.plot(history.history[x])\n",
        "  ax.plot(history.history[y])\n",
        "  plt.title('Model Loss')\n",
        "  plt.ylabel(y)\n",
        "  plt.xlabel(x)\n",
        "  plt.legend(['Train', 'Val'], loc='upper left')\n",
        "  ax.grid(color='black')\n",
        "  plt.show()"
      ],
      "metadata": {
        "id": "XINeTr6JQO9z"
      },
      "execution_count": null,
      "outputs": []
    },
    {
      "cell_type": "markdown",
      "source": [
        "## Plotting the loss"
      ],
      "metadata": {
        "id": "2MoxiJdLwtck"
      }
    },
    {
      "cell_type": "code",
      "source": [
        "plot_loss(history)"
      ],
      "metadata": {
        "colab": {
          "base_uri": "https://localhost:8080/",
          "height": 627
        },
        "id": "DudeBei3QVbp",
        "outputId": "978d52c4-cf50-47ae-c833-7564d96e0c57"
      },
      "execution_count": null,
      "outputs": [
        {
          "output_type": "display_data",
          "data": {
            "text/plain": [
              "<Figure size 1440x720 with 1 Axes>"
            ],
            "image/png": "[encoded data removed]"
          },
          "metadata": {}
        }
      ]
    },
    {
      "cell_type": "markdown",
      "source": [
        "# Conclusion\n",
        "This model works good upto certain point,but eventually it showing overfitting isuue\n",
        "So,there is still scope for improvement\n",
        "we can change the hyperparameters and observe how model works\n"
      ],
      "metadata": {
        "id": "jUa95X-rwS78"
      }
    }
  ]
}